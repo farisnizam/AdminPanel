{
  "nbformat": 4,
  "nbformat_minor": 0,
  "metadata": {
    "colab": {
      "name": "Copy of Untitled0.ipynb",
      "provenance": [],
      "mount_file_id": "1_wsOaA6mz5xcxany4UoO9cToDygZm_wv",
      "authorship_tag": "ABX9TyMJe1cyIWdPU3HpC4yKHd3Z",
      "include_colab_link": true
    },
    "kernelspec": {
      "name": "python3",
      "display_name": "Python 3"
    }
  },
  "cells": [
    {
      "cell_type": "markdown",
      "metadata": {
        "id": "view-in-github",
        "colab_type": "text"
      },
      "source": [
        "<a href=\"https://colab.research.google.com/github/farisnizam/AdminPanel/blob/master/Copy_of_Untitled0.ipynb\" target=\"_parent\"><img src=\"https://colab.research.google.com/assets/colab-badge.svg\" alt=\"Open In Colab\"/></a>"
      ]
    },
    {
      "cell_type": "code",
      "metadata": {
        "id": "7f00wWeNZEFW",
        "colab": {
          "base_uri": "https://localhost:8080/"
        },
        "outputId": "90f646f2-da63-4442-b40e-b65fe00ceb30"
      },
      "source": [
        "import time\r\n",
        "print(time.ctime())"
      ],
      "execution_count": null,
      "outputs": [
        {
          "output_type": "stream",
          "text": [
            "Thu Dec 24 06:30:33 2020\n"
          ],
          "name": "stdout"
        }
      ]
    },
    {
      "cell_type": "code",
      "metadata": {
        "colab": {
          "base_uri": "https://localhost:8080/"
        },
        "id": "OEw5NX_NbwwR",
        "outputId": "0c6511a5-0e79-4a8b-d74c-1d0bd14ada03"
      },
      "source": [
        "time.sleep(5)\r\n",
        "print (time.ctime())"
      ],
      "execution_count": null,
      "outputs": [
        {
          "output_type": "stream",
          "text": [
            "Thu Dec 24 06:30:40 2020\n"
          ],
          "name": "stdout"
        }
      ]
    },
    {
      "cell_type": "markdown",
      "metadata": {
        "id": "JvrsbeWcb79X"
      },
      "source": [
        "This is **bold**.\r\n",
        "This is *italic*.\r\n",
        "This is ~strikethrough~."
      ]
    },
    {
      "cell_type": "markdown",
      "metadata": {
        "id": "g1Q0H0NlcF3Z"
      },
      "source": [
        "$\\sqrt{3x-1}+(1+x)^2$"
      ]
    },
    {
      "cell_type": "markdown",
      "metadata": {
        "id": "EsqA9M0KcJdv"
      },
      "source": [
        "$e^x=\\sum_{i=0}^\\infty \\frac{1}{i!}x^i$"
      ]
    },
    {
      "cell_type": "code",
      "metadata": {
        "colab": {
          "base_uri": "https://localhost:8080/"
        },
        "id": "bo9Tiaieen-H",
        "outputId": "ef7c4844-de05-484b-8137-1e9a420de2fe"
      },
      "source": [
        "message = 'A Great Tutorial on Colab by Tutorialspoint!'\r\n",
        "greeting = !echo -e '$message\\n$message'\r\n",
        "greeting"
      ],
      "execution_count": null,
      "outputs": [
        {
          "output_type": "execute_result",
          "data": {
            "text/plain": [
              "['A Great Tutorial on Colab by Tutorialspoint!',\n",
              " 'A Great Tutorial on Colab by Tutorialspoint!']"
            ]
          },
          "metadata": {
            "tags": []
          },
          "execution_count": 2
        }
      ]
    },
    {
      "cell_type": "code",
      "metadata": {
        "colab": {
          "base_uri": "https://localhost:8080/"
        },
        "id": "WBmx8D7bfWJv",
        "outputId": "58d29fd4-1865-4b34-88f6-9e62b753de88"
      },
      "source": [
        "!wget https://jsonplaceholder.typicode.com/todos/1 -P \"https://drive.google.com/drive/folders/1cEgZM7En1TFYZfW8rstifjYMkCJ04Bfo\""
      ],
      "execution_count": 20,
      "outputs": [
        {
          "output_type": "stream",
          "text": [
            "--2020-12-24 07:23:31--  https://jsonplaceholder.typicode.com/todos/1\n",
            "Resolving jsonplaceholder.typicode.com (jsonplaceholder.typicode.com)... 172.64.107.5, 172.64.106.5, 2606:4700:e0::ac40:6b05, ...\n",
            "Connecting to jsonplaceholder.typicode.com (jsonplaceholder.typicode.com)|172.64.107.5|:443... connected.\n",
            "HTTP request sent, awaiting response... 200 OK\n",
            "Length: 83 [application/json]\n",
            "Saving to: ‘https://drive.google.com/drive/folders/1cEgZM7En1TFYZfW8rstifjYMkCJ04Bfo/1.1’\n",
            "\n",
            "\r1.1                   0%[                    ]       0  --.-KB/s               \r1.1                 100%[===================>]      83  --.-KB/s    in 0s      \n",
            "\n",
            "2020-12-24 07:23:31 (14.5 MB/s) - ‘https://drive.google.com/drive/folders/1cEgZM7En1TFYZfW8rstifjYMkCJ04Bfo/1.1’ saved [83/83]\n",
            "\n"
          ],
          "name": "stdout"
        }
      ]
    },
    {
      "cell_type": "code",
      "metadata": {
        "colab": {
          "base_uri": "https://localhost:8080/"
        },
        "id": "tdQCT-yvnkjm",
        "outputId": "12e74b4d-e059-4173-952f-3111123a2dbd"
      },
      "source": [
        "!ls /bin"
      ],
      "execution_count": 17,
      "outputs": [
        {
          "output_type": "stream",
          "text": [
            "bash\t       hostname       su\n",
            "bunzip2        journalctl     sync\n",
            "bzcat\t       kill\t      systemctl\n",
            "bzcmp\t       kmod\t      systemd\n",
            "bzdiff\t       less\t      systemd-ask-password\n",
            "bzegrep        lessecho       systemd-escape\n",
            "bzexe\t       lessfile       systemd-hwdb\n",
            "bzfgrep        lesskey\t      systemd-inhibit\n",
            "bzgrep\t       lesspipe       systemd-machine-id-setup\n",
            "bzip2\t       ln\t      systemd-notify\n",
            "bzip2recover   login\t      systemd-sysusers\n",
            "bzless\t       loginctl       systemd-tmpfiles\n",
            "bzmore\t       ls\t      systemd-tty-ask-password-agent\n",
            "cat\t       lsblk\t      tar\n",
            "chgrp\t       lsmod\t      tempfile\n",
            "chmod\t       mkdir\t      touch\n",
            "chown\t       mknod\t      true\n",
            "cp\t       mktemp\t      udevadm\n",
            "dash\t       more\t      ulockmgr_server\n",
            "date\t       mount\t      umount\n",
            "dd\t       mountpoint     uname\n",
            "df\t       mv\t      uncompress\n",
            "dir\t       networkctl     vdir\n",
            "dmesg\t       nisdomainname  wdctl\n",
            "dnsdomainname  pidof\t      which\n",
            "domainname     ps\t      ypdomainname\n",
            "echo\t       pwd\t      zcat\n",
            "egrep\t       rbash\t      zcmp\n",
            "false\t       readlink       zdiff\n",
            "fgrep\t       rm\t      zegrep\n",
            "findmnt        rmdir\t      zfgrep\n",
            "fuser\t       run-parts      zforce\n",
            "fusermount     sed\t      zgrep\n",
            "grep\t       sh\t      zless\n",
            "gunzip\t       sh.distrib     zmore\n",
            "gzexe\t       sleep\t      znew\n",
            "gzip\t       stty\n"
          ],
          "name": "stdout"
        }
      ]
    },
    {
      "cell_type": "code",
      "metadata": {
        "colab": {
          "base_uri": "https://localhost:8080/"
        },
        "id": "lzT9wMnMppbW",
        "outputId": "43222af1-2d6e-4e40-8524-7560b88d6d51"
      },
      "source": [
        "from google.colab import drive\r\n",
        "drive.mount('/content/drive')"
      ],
      "execution_count": 26,
      "outputs": [
        {
          "output_type": "stream",
          "text": [
            "Drive already mounted at /content/drive; to attempt to forcibly remount, call drive.mount(\"/content/drive\", force_remount=True).\n"
          ],
          "name": "stdout"
        }
      ]
    },
    {
      "cell_type": "code",
      "metadata": {
        "colab": {
          "base_uri": "https://localhost:8080/"
        },
        "id": "1-P__-TXqLkH",
        "outputId": "5283969c-ae6b-41ef-fbb3-ce5ac0e78c5d"
      },
      "source": [
        "!ls \"/content/drive/folders/Colab Notebooks\""
      ],
      "execution_count": 30,
      "outputs": [
        {
          "output_type": "stream",
          "text": [
            "ls: cannot access '/drive/folders/1cEgZM7En1TFYZfW8rstifjYMkCJ04Bfo': No such file or directory\n"
          ],
          "name": "stdout"
        }
      ]
    }
  ]
}